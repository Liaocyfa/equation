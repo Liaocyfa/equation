{
 "cells": [
  {
   "cell_type": "code",
   "execution_count": 1,
   "id": "2fbc736a",
   "metadata": {},
   "outputs": [
    {
     "name": "stdout",
     "output_type": "stream",
     "text": [
      "49\n"
     ]
    }
   ],
   "source": [
    "#x^2\n",
    "lamret=lambda x: x**2\n",
    "print(lamret(7))"
   ]
  },
  {
   "cell_type": "code",
   "execution_count": 2,
   "id": "541faef4",
   "metadata": {},
   "outputs": [
    {
     "data": {
      "text/plain": [
       "function"
      ]
     },
     "execution_count": 2,
     "metadata": {},
     "output_type": "execute_result"
    }
   ],
   "source": [
    "type(lamret)"
   ]
  },
  {
   "cell_type": "code",
   "execution_count": 3,
   "id": "e35c4df7",
   "metadata": {},
   "outputs": [
    {
     "name": "stdout",
     "output_type": "stream",
     "text": [
      "2.0\n"
     ]
    }
   ],
   "source": [
    "#f(x,y,z)=(x-y)^z/2\n",
    "lamret2=lambda x,y,z:((x-y)**z)/2\n",
    "print(lamret2(3,1,2))"
   ]
  },
  {
   "cell_type": "code",
   "execution_count": 4,
   "id": "1e0fe086",
   "metadata": {},
   "outputs": [
    {
     "name": "stdout",
     "output_type": "stream",
     "text": [
      "25\n"
     ]
    }
   ],
   "source": [
    "lamret3=lambda x,y:x**2 if x>y else 1/x**2\n",
    "print(lamret3(5,3))"
   ]
  },
  {
   "cell_type": "code",
   "execution_count": 5,
   "id": "b263333b",
   "metadata": {},
   "outputs": [
    {
     "name": "stdout",
     "output_type": "stream",
     "text": [
      "0.0625\n"
     ]
    }
   ],
   "source": [
    "print(lamret3(4,7))"
   ]
  },
  {
   "cell_type": "code",
   "execution_count": 7,
   "id": "7354a7bf",
   "metadata": {},
   "outputs": [
    {
     "name": "stdout",
     "output_type": "stream",
     "text": [
      "呼叫函數(x**2)+(4*x)+6 38\n"
     ]
    }
   ],
   "source": [
    "# x^2+4x+6\n",
    "def polyequ(x):\n",
    "    return(x**2)+(4*x)+6\n",
    "sample=4\n",
    "result=polyequ(sample)\n",
    "print('呼叫函數(x**2)+(4*x)+6',result)"
   ]
  },
  {
   "cell_type": "code",
   "execution_count": null,
   "id": "a4fb4076",
   "metadata": {},
   "outputs": [],
   "source": []
  }
 ],
 "metadata": {
  "kernelspec": {
   "display_name": "Python 3 (ipykernel)",
   "language": "python",
   "name": "python3"
  },
  "language_info": {
   "codemirror_mode": {
    "name": "ipython",
    "version": 3
   },
   "file_extension": ".py",
   "mimetype": "text/x-python",
   "name": "python",
   "nbconvert_exporter": "python",
   "pygments_lexer": "ipython3",
   "version": "3.9.7"
  }
 },
 "nbformat": 4,
 "nbformat_minor": 5
}
